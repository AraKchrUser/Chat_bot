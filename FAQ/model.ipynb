{
 "cells": [
  {
   "cell_type": "code",
   "execution_count": null,
   "id": "3b5c6d0a",
   "metadata": {},
   "outputs": [],
   "source": []
  },
  {
   "cell_type": "code",
   "execution_count": 1,
   "id": "0b065dc3",
   "metadata": {},
   "outputs": [],
   "source": [
    "import pandas as pd"
   ]
  },
  {
   "cell_type": "code",
   "execution_count": 39,
   "id": "869f3837",
   "metadata": {},
   "outputs": [],
   "source": [
    "df = pd.read_csv('data_faq_mfc.csv')"
   ]
  },
  {
   "cell_type": "code",
   "execution_count": 3,
   "id": "4e1b4784",
   "metadata": {},
   "outputs": [],
   "source": [
    "from deeppavlov.dataset_readers import faq_reader\n",
    "from deeppavlov.core.common.chainer import Chainer\n",
    "from deeppavlov.core.data.data_learning_iterator import DataLearningIterator\n",
    "from deeppavlov import configs, train_model\n",
    "# faq_reader(data_path='data_faq_mfc.csv', x_col_name='Question', y_col_name='Answer')"
   ]
  },
  {
   "cell_type": "code",
   "execution_count": null,
   "id": "8a3ae239",
   "metadata": {},
   "outputs": [],
   "source": [
    "import json "
   ]
  },
  {
   "cell_type": "code",
   "execution_count": 15,
   "id": "b76f7065",
   "metadata": {},
   "outputs": [],
   "source": [
    "\n",
    "\n",
    "# config = '''\n",
    "# {\n",
    "#   \"dataset_reader\": {\n",
    "#     \"class_name\": \"faq_reader\",\n",
    "#     \"x_col_name\": \"Question\",\n",
    "#     \"y_col_name\": \"Answer\",\n",
    "#     \"data_path\": \"data_faq_mfc.csv\"\n",
    "#   },\n",
    "#   \"dataset_iterator\": {\n",
    "#     \"class_name\": \"data_learning_iterator\",\n",
    "#     \"field_to_split\": \"train\",\n",
    "#     \"split_fields\": [\"train\",\"test\"],\n",
    "#     \"split_proportions\": [0.8,0.2]\n",
    "#   },\n",
    "#   \"chainer\": {\n",
    "#     \"in\": \"question\",\n",
    "#     \"pipe\": [\n",
    "#       {\n",
    "#         \"class_name\": \"ru_tokenizer\",\n",
    "#         \"in\": \"question\",\n",
    "#         \"lemmas\": true,\n",
    "#         \"out\": \"q_token_lemmas\"\n",
    "#       },\n",
    "#       {\n",
    "#         \"class_name\": \"fasttext\",\n",
    "#         \"in\": \"q_token_lemmas\",\n",
    "#         \"load_path\": \"{DOWNLOADS_PATH}/embeddings/lenta_lower_100.bin\",\n",
    "#         \"mean\": true,\n",
    "#         \"out\": \"question_vector\"\n",
    "#       },\n",
    "#       {\n",
    "#         \"class_name\": \"cos_sim_classifier\",\n",
    "#         \"in\": \"question_vector\",\n",
    "#         \"fit_on\": [\n",
    "#           \"question_vector\",\n",
    "#           \"y\"\n",
    "#         ],\n",
    "#         \"top_n\": 3,\n",
    "#         \"save_path\": \"{MODELS_PATH}/faq/fasttext_cos_classifier.pkl\",\n",
    "#         \"load_path\": \"{MODELS_PATH}/faq/fasttext_cos_classifier.pkl\",\n",
    "#         \"out\": [\n",
    "#           \"answer\",\n",
    "#           \"score\"\n",
    "#         ]\n",
    "#       }\n",
    "#     ],\n",
    "#     \"out\": [\n",
    "#       \"answer\",\n",
    "#       \"score\"\n",
    "#     ]\n",
    "#   },\n",
    "#   \"train\": {\n",
    "#     \"evaluation_targets\": [],\n",
    "#     \"class_name\": \"fit_trainer\",\n",
    "#      \"metrics\": [\"accuracy\"]\n",
    "#   },\n",
    "#   \"metadata\": {\n",
    "#     \"variables\": {\n",
    "#       \"ROOT_PATH\": \"/home/user/src/deeppavlov\",\n",
    "#       \"DOWNLOADS_PATH\": \"{ROOT_PATH}/downloads\",\n",
    "#       \"MODELS_PATH\": \"{ROOT_PATH}/models\"\n",
    "#     },\n",
    "#     \"download\": [\n",
    "#       {\n",
    "#         \"url\": \"http://files.deeppavlov.ai/faq/school/fasttext_cos_classifier.pkl\",\n",
    "#         \"subdir\": \"{MODELS_PATH}/faq\"\n",
    "#       },\n",
    "#       {\n",
    "#         \"url\": \"http://files.deeppavlov.ai/embeddings/lenta_lower_100.bin\",\n",
    "#         \"subdir\": \"{DOWNLOADS_PATH}/embeddings\"\n",
    "#       }\n",
    "#     ]\n",
    "#   }\n",
    "# }\n",
    "# '''\n",
    "\n",
    "# config = json.loads(config)"
   ]
  },
  {
   "cell_type": "code",
   "execution_count": 10,
   "id": "632d9316",
   "metadata": {},
   "outputs": [],
   "source": [
    "config = '''\n",
    "{\n",
    "  \"dataset_reader\": {\n",
    "    \"class_name\": \"faq_reader\",\n",
    "    \"x_col_name\": \"Question\",\n",
    "    \"y_col_name\": \"Answer\",\n",
    "    \"data_path\": \"data_faq_mfc.csv\"\n",
    "  },\n",
    "  \"dataset_iterator\": {\n",
    "    \"class_name\": \"basic_classification_iterator\",\n",
    "    \"seed\": 42\n",
    "  },\n",
    "  \"chainer\": {\n",
    "    \"in\": \"q\",\n",
    "    \"in_y\": \"y\",\n",
    "    \"pipe\": [\n",
    "      {\n",
    "        \"class_name\": \"ru_tokenizer\",\n",
    "        \"id\": \"my_tokenizer\",\n",
    "        \"in\": \"q\",\n",
    "        \"lemmas\": true,\n",
    "        \"out\": \"q_token_lemmas\"\n",
    "      },\n",
    "      {\n",
    "        \"ref\": \"my_tokenizer\",\n",
    "        \"in\": \"q_token_lemmas\",\n",
    "        \"out\": \"q_lem\"\n",
    "      },\n",
    "      {\n",
    "        \"in\": [\n",
    "          \"q_lem\"\n",
    "        ],\n",
    "        \"out\": [\n",
    "          \"q_vect\"\n",
    "        ],\n",
    "        \"fit_on\": [\n",
    "          \"q_lem\"\n",
    "        ],\n",
    "        \"id\": \"tfidf_vec\",\n",
    "        \"class_name\": \"sklearn_component\",\n",
    "        \"save_path\": \"{MODELS_PATH}/vectorizer/tfidf_vectorizer_ruwiki_v2.pkl\",\n",
    "        \"load_path\": \"{MODELS_PATH}/vectorizer/tfidf_vectorizer_ruwiki_v2.pkl\",\n",
    "        \"model_class\": \"sklearn.feature_extraction.text:TfidfVectorizer\",\n",
    "        \"infer_method\": \"transform\"\n",
    "      },\n",
    "      {\n",
    "        \"id\": \"answers_vocab\",\n",
    "        \"class_name\": \"simple_vocab\",\n",
    "        \"fit_on\": [\n",
    "          \"y\"\n",
    "        ],\n",
    "        \"save_path\": \"{MODELS_PATH}/faq/ru_mipt_answers.dict\",\n",
    "        \"load_path\": \"{MODELS_PATH}/faq/ru_mipt_answers.dict\",\n",
    "        \"in\": \"y\",\n",
    "        \"out\": \"y_ids\"\n",
    "      },\n",
    "      {\n",
    "        \"in\": \"q_vect\",\n",
    "        \"fit_on\": [\n",
    "          \"q_vect\",\n",
    "          \"y_ids\"\n",
    "        ],\n",
    "        \"out\": [\n",
    "          \"y_pred_proba\"\n",
    "        ],\n",
    "        \"class_name\": \"sklearn_component\",\n",
    "        \"main\": true,\n",
    "        \"save_path\": \"{MODELS_PATH}/faq/tfidf_logreg_classifier_v2.pkl\",\n",
    "        \"load_path\": \"{MODELS_PATH}/faq/tfidf_logreg_classifier_v2.pkl\",\n",
    "        \"model_class\": \"sklearn.linear_model:LogisticRegression\",\n",
    "        \"infer_method\": \"predict_proba\",\n",
    "        \"C\": 1000,\n",
    "        \"penalty\": \"l2\"\n",
    "      },\n",
    "      {\n",
    "        \"in\": \"y_pred_proba\",\n",
    "        \"out\": \"y_pred_ids\",\n",
    "        \"class_name\": \"proba2labels\",\n",
    "        \"max_proba\": true\n",
    "      },\n",
    "      {\n",
    "        \"in\": \"y_pred_ids\",\n",
    "        \"out\": \"y_pred_answers\",\n",
    "        \"ref\": \"answers_vocab\"\n",
    "      }\n",
    "    ],\n",
    "    \"out\": [\n",
    "      \"y_pred_answers\",\n",
    "      \"y_pred_proba\"\n",
    "    ]\n",
    "  },\n",
    "  \"train\": {\n",
    "    \"class_name\": \"fit_trainer\",\n",
    "    \"evaluation_targets\": []\n",
    "  },\n",
    "  \"metadata\": {\n",
    "    \"variables\": {\n",
    "      \"ROOT_PATH\": \"/home/user/src/deeppavlov\",\n",
    "      \"DOWNLOADS_PATH\": \"{ROOT_PATH}/downloads\",\n",
    "      \"MODELS_PATH\": \"{ROOT_PATH}/models\"\n",
    "    },\n",
    "    \"download\": [\n",
    "      {\n",
    "        \"url\": \"http://files.deeppavlov.ai/faq/school/tfidf_logreg_classifier_v2.pkl\",\n",
    "        \"subdir\": \"{MODELS_PATH}/faq\"\n",
    "      },\n",
    "      {\n",
    "        \"url\": \"http://files.deeppavlov.ai/vectorizer/tfidf_vectorizer_ruwiki_v2.pkl\",\n",
    "        \"subdir\": \"{MODELS_PATH}/vectorizer\"\n",
    "      },\n",
    "      {\n",
    "        \"url\": \"http://files.deeppavlov.ai/faq/mipt/ru_mipt_answers.dict\",\n",
    "        \"subdir\": \"{MODELS_PATH}/faq\"\n",
    "      }\n",
    "    ]\n",
    "  }\n",
    "}\n",
    "'''\n",
    "\n",
    "config = json.loads(config)"
   ]
  },
  {
   "cell_type": "code",
   "execution_count": 14,
   "id": "709f776d",
   "metadata": {},
   "outputs": [
    {
     "data": {
      "text/plain": [
       "{'dataset_reader': {'class_name': 'faq_reader',\n",
       "  'x_col_name': 'Question',\n",
       "  'y_col_name': 'Answer',\n",
       "  'data_path': 'data_faq_mfc.csv'},\n",
       " 'dataset_iterator': {'class_name': 'basic_classification_iterator',\n",
       "  'seed': 42},\n",
       " 'chainer': {'in': 'q',\n",
       "  'in_y': 'y',\n",
       "  'pipe': [{'class_name': 'ru_tokenizer',\n",
       "    'id': 'my_tokenizer',\n",
       "    'in': 'q',\n",
       "    'lemmas': True,\n",
       "    'out': 'q_token_lemmas'},\n",
       "   {'ref': 'my_tokenizer', 'in': 'q_token_lemmas', 'out': 'q_lem'},\n",
       "   {'in': ['q_lem'],\n",
       "    'out': ['q_vect'],\n",
       "    'fit_on': ['q_lem'],\n",
       "    'id': 'tfidf_vec',\n",
       "    'class_name': 'sklearn_component',\n",
       "    'save_path': '{MODELS_PATH}/vectorizer/tfidf_vectorizer_ruwiki_v2.pkl',\n",
       "    'load_path': '{MODELS_PATH}/vectorizer/tfidf_vectorizer_ruwiki_v2.pkl',\n",
       "    'model_class': 'sklearn.feature_extraction.text:TfidfVectorizer',\n",
       "    'infer_method': 'transform'},\n",
       "   {'id': 'answers_vocab',\n",
       "    'class_name': 'simple_vocab',\n",
       "    'fit_on': ['y'],\n",
       "    'save_path': '{MODELS_PATH}/faq/ru_mipt_answers.dict',\n",
       "    'load_path': '{MODELS_PATH}/faq/ru_mipt_answers.dict',\n",
       "    'in': 'y',\n",
       "    'out': 'y_ids'},\n",
       "   {'in': 'q_vect',\n",
       "    'fit_on': ['q_vect', 'y_ids'],\n",
       "    'out': ['y_pred_proba'],\n",
       "    'class_name': 'sklearn_component',\n",
       "    'main': True,\n",
       "    'save_path': '{MODELS_PATH}/faq/tfidf_logreg_classifier_v2.pkl',\n",
       "    'load_path': '{MODELS_PATH}/faq/tfidf_logreg_classifier_v2.pkl',\n",
       "    'model_class': 'sklearn.linear_model:LogisticRegression',\n",
       "    'infer_method': 'predict_proba',\n",
       "    'C': 1000,\n",
       "    'penalty': 'l2'},\n",
       "   {'in': 'y_pred_proba',\n",
       "    'out': 'y_pred_ids',\n",
       "    'class_name': 'proba2labels',\n",
       "    'max_proba': True},\n",
       "   {'in': 'y_pred_ids', 'out': 'y_pred_answers', 'ref': 'answers_vocab'}],\n",
       "  'out': ['y_pred_answers', 'y_pred_proba']},\n",
       " 'train': {'class_name': 'fit_trainer', 'evaluation_targets': []},\n",
       " 'metadata': {'variables': {'ROOT_PATH': '/home/user/src/deeppavlov',\n",
       "   'DOWNLOADS_PATH': '{ROOT_PATH}/downloads',\n",
       "   'MODELS_PATH': '{ROOT_PATH}/models'},\n",
       "  'download': [{'url': 'http://files.deeppavlov.ai/faq/school/tfidf_logreg_classifier_v2.pkl',\n",
       "    'subdir': '{MODELS_PATH}/faq'},\n",
       "   {'url': 'http://files.deeppavlov.ai/vectorizer/tfidf_vectorizer_ruwiki_v2.pkl',\n",
       "    'subdir': '{MODELS_PATH}/vectorizer'},\n",
       "   {'url': 'http://files.deeppavlov.ai/faq/mipt/ru_mipt_answers.dict',\n",
       "    'subdir': '{MODELS_PATH}/faq'}]}}"
      ]
     },
     "execution_count": 14,
     "metadata": {},
     "output_type": "execute_result"
    }
   ],
   "source": [
    "config"
   ]
  },
  {
   "cell_type": "code",
   "execution_count": 29,
   "id": "a5c70b39",
   "metadata": {},
   "outputs": [],
   "source": [
    "from deeppavlov import configs\n",
    "from deeppavlov.core.common.file import read_json"
   ]
  },
  {
   "cell_type": "code",
   "execution_count": 66,
   "id": "83b707f8",
   "metadata": {},
   "outputs": [
    {
     "name": "stderr",
     "output_type": "stream",
     "text": [
      "2022-01-21 01:31:28.13 INFO in 'deeppavlov.models.sklearn.sklearn_component'['sklearn_component'] at line 203: Loading model sklearn.feature_extraction.text:TfidfVectorizer from /home/user/.deeppavlov/models/vectorizer/tfidf_vectorizer_ruwiki.pkl\n",
      "2022-01-21 01:31:28.17 INFO in 'deeppavlov.models.sklearn.sklearn_component'['sklearn_component'] at line 210: Model sklearn.feature_extraction.textTfidfVectorizer loaded  with parameters\n",
      "2022-01-21 01:31:28.18 WARNING in 'deeppavlov.models.sklearn.sklearn_component'['sklearn_component'] at line 216: Fitting of loaded model can not be continued. Model can be fitted from scratch.If one needs to continue fitting, please, look at `warm_start` parameter\n",
      "2022-01-21 01:31:28.817 INFO in 'deeppavlov.models.sklearn.sklearn_component'['sklearn_component'] at line 109: Fitting model sklearn.feature_extraction.textTfidfVectorizer\n",
      "2022-01-21 01:31:28.845 INFO in 'deeppavlov.models.sklearn.sklearn_component'['sklearn_component'] at line 241: Saving model to /home/user/.deeppavlov/models/vectorizer/tfidf_vectorizer_ruwiki.pkl\n",
      "2022-01-21 01:31:28.996 INFO in 'deeppavlov.models.classifiers.cos_sim_classifier'['cos_sim_classifier'] at line 128: Saving faq_model to /home/user/.deeppavlov/models/faq/tfidf_cos_sim_classifier.pkl\n",
      "2022-01-21 01:31:29.51 INFO in 'deeppavlov.models.sklearn.sklearn_component'['sklearn_component'] at line 203: Loading model sklearn.feature_extraction.text:TfidfVectorizer from /home/user/.deeppavlov/models/vectorizer/tfidf_vectorizer_ruwiki.pkl\n",
      "2022-01-21 01:31:29.55 INFO in 'deeppavlov.models.sklearn.sklearn_component'['sklearn_component'] at line 210: Model sklearn.feature_extraction.textTfidfVectorizer loaded  with parameters\n",
      "2022-01-21 01:31:29.56 WARNING in 'deeppavlov.models.sklearn.sklearn_component'['sklearn_component'] at line 216: Fitting of loaded model can not be continued. Model can be fitted from scratch.If one needs to continue fitting, please, look at `warm_start` parameter\n",
      "2022-01-21 01:31:29.59 INFO in 'deeppavlov.models.classifiers.cos_sim_classifier'['cos_sim_classifier'] at line 133: Loading faq_model from /home/user/.deeppavlov/models/faq/tfidf_cos_sim_classifier.pkl\n",
      "2022-01-21 01:31:29.119 INFO in 'deeppavlov.models.sklearn.sklearn_component'['sklearn_component'] at line 203: Loading model sklearn.feature_extraction.text:TfidfVectorizer from /home/user/.deeppavlov/models/vectorizer/tfidf_vectorizer_ruwiki.pkl\n",
      "2022-01-21 01:31:29.123 INFO in 'deeppavlov.models.sklearn.sklearn_component'['sklearn_component'] at line 210: Model sklearn.feature_extraction.textTfidfVectorizer loaded  with parameters\n",
      "2022-01-21 01:31:29.125 WARNING in 'deeppavlov.models.sklearn.sklearn_component'['sklearn_component'] at line 216: Fitting of loaded model can not be continued. Model can be fitted from scratch.If one needs to continue fitting, please, look at `warm_start` parameter\n",
      "2022-01-21 01:31:29.126 INFO in 'deeppavlov.models.classifiers.cos_sim_classifier'['cos_sim_classifier'] at line 133: Loading faq_model from /home/user/.deeppavlov/models/faq/tfidf_cos_sim_classifier.pkl\n"
     ]
    }
   ],
   "source": [
    "model_conf = read_json(configs.faq.tfidf_autofaq)\n",
    "model_conf['dataset_reader']['data_path'] = \"data_faq_mfc.csv\"\n",
    "model_conf['dataset_reader']['data_url'] = \"data_faq_mfc.csv\"\n",
    "\n",
    "faq = train_model(model_conf)"
   ]
  },
  {
   "cell_type": "code",
   "execution_count": 31,
   "id": "2f0e7121",
   "metadata": {},
   "outputs": [],
   "source": [
    "# read_json(model_conf)"
   ]
  },
  {
   "cell_type": "code",
   "execution_count": 12,
   "id": "f2c315ba",
   "metadata": {},
   "outputs": [],
   "source": [
    "# !sudo apt install libpython3.7-dev\n",
    "# !pip install fasttext"
   ]
  },
  {
   "cell_type": "code",
   "execution_count": 67,
   "id": "8778278c",
   "metadata": {},
   "outputs": [
    {
     "data": {
      "text/plain": [
       "[['Здравствуйте! Для более точного ответа просим Вас обратиться в региональный call-центр МФЦ по номеру телефона 8(4162)99-22-22 так как по Вашему запросу необходима дополнительная информация.'],\n",
       " [0.02]]"
      ]
     },
     "execution_count": 67,
     "metadata": {},
     "output_type": "execute_result"
    }
   ],
   "source": [
    "faq([\"У меня нет прописки\"])"
   ]
  },
  {
   "cell_type": "code",
   "execution_count": null,
   "id": "d907aa9c",
   "metadata": {},
   "outputs": [],
   "source": []
  },
  {
   "cell_type": "code",
   "execution_count": 50,
   "id": "3011d135",
   "metadata": {},
   "outputs": [
    {
     "data": {
      "text/plain": [
       "array(['Что означает :\"Передано на выдачу в ОГВ\"?',\n",
       "       'Здравствуйте! Просим Вас уточнить номер дела или описи указанный в расписке выданной в МФЦ. Также о статусе рассмотрения дела Вы можете узнать позвонив в региональный call-центр МФЦ по номеру телефона 8 (4162) 99-22-22. В случае если документы подавались Вами через Единый портал государственных услуг о готовности результата Вы можете уточнить в Органе предоставляющем услугу.'],\n",
       "      dtype=object)"
      ]
     },
     "execution_count": 50,
     "metadata": {},
     "output_type": "execute_result"
    }
   ],
   "source": [
    "df.iloc[22, :].values"
   ]
  },
  {
   "cell_type": "code",
   "execution_count": null,
   "id": "a6b349d2",
   "metadata": {},
   "outputs": [],
   "source": []
  },
  {
   "cell_type": "code",
   "execution_count": null,
   "id": "47833507",
   "metadata": {},
   "outputs": [],
   "source": []
  },
  {
   "cell_type": "code",
   "execution_count": null,
   "id": "e9524b8f",
   "metadata": {},
   "outputs": [],
   "source": []
  },
  {
   "cell_type": "code",
   "execution_count": 61,
   "id": "b95f73b3",
   "metadata": {},
   "outputs": [],
   "source": [
    "model_conf = read_json(configs.faq.fasttext_avg_autofaq)\n",
    "model_conf['dataset_reader']['data_path'] = \"data_faq_mfc.csv\"\n",
    "model_conf['dataset_reader']['data_url'] = None\n",
    "model_conf['metadata']['variables']['ROOT_PATH'] = '/home/user/src/deeppavlov'"
   ]
  },
  {
   "cell_type": "code",
   "execution_count": 62,
   "id": "e1e87ad2",
   "metadata": {},
   "outputs": [
    {
     "name": "stderr",
     "output_type": "stream",
     "text": [
      "2022-01-21 01:30:16.779 INFO in 'deeppavlov.models.embedders.fasttext_embedder'['fasttext_embedder'] at line 53: [loading fastText embeddings from `/home/user/src/deeppavlov/downloads/embeddings/lenta_lower_100.bin`]\n",
      "Warning : `load_model` does not return WordVectorModel or SupervisedModel any more, but a `FastText` object which is very similar.\n",
      "2022-01-21 01:30:20.46 INFO in 'deeppavlov.models.classifiers.cos_sim_classifier'['cos_sim_classifier'] at line 128: Saving faq_model to /home/user/src/deeppavlov/models/faq/fasttext_cos_classifier.pkl\n",
      "2022-01-21 01:30:20.188 INFO in 'deeppavlov.models.embedders.fasttext_embedder'['fasttext_embedder'] at line 53: [loading fastText embeddings from `/home/user/src/deeppavlov/downloads/embeddings/lenta_lower_100.bin`]\n",
      "Warning : `load_model` does not return WordVectorModel or SupervisedModel any more, but a `FastText` object which is very similar.\n",
      "2022-01-21 01:30:22.483 INFO in 'deeppavlov.models.classifiers.cos_sim_classifier'['cos_sim_classifier'] at line 133: Loading faq_model from /home/user/src/deeppavlov/models/faq/fasttext_cos_classifier.pkl\n",
      "2022-01-21 01:30:22.629 INFO in 'deeppavlov.models.embedders.fasttext_embedder'['fasttext_embedder'] at line 53: [loading fastText embeddings from `/home/user/src/deeppavlov/downloads/embeddings/lenta_lower_100.bin`]\n",
      "Warning : `load_model` does not return WordVectorModel or SupervisedModel any more, but a `FastText` object which is very similar.\n",
      "2022-01-21 01:30:24.930 INFO in 'deeppavlov.models.classifiers.cos_sim_classifier'['cos_sim_classifier'] at line 133: Loading faq_model from /home/user/src/deeppavlov/models/faq/fasttext_cos_classifier.pkl\n"
     ]
    }
   ],
   "source": [
    "faq = train_model(model_conf)"
   ]
  },
  {
   "cell_type": "code",
   "execution_count": 65,
   "id": "6d0af8f5",
   "metadata": {},
   "outputs": [
    {
     "data": {
      "text/plain": [
       "[['Добрый день! Список документов для оформления паспорта после исполнения 14 лет включает:\\n- Заявление (заполняется в МФЦ);\\n- Оригинал свидетельства о рождении;\\n- Документ подтверждающий регистрацию по месту жительства (необязательный);\\n- Две фотографии\\xa0\\xa0(35x45 мм);\\n- Квитанция об оплате государственной пошлины (300 руб оплатить можно в МФЦ).\\nДокументы подтверждающие гражданство Российской Федерации определены п.п. «а» «б» «В» п.1 Указа Президента Российской Федерации №444 от 13.04.2011 года:\\n1.Свидетельство о рождении в котором имеются сведения о гражданстве Российской Федерации (одно из перечисленных условий):\\n- обоих родителей или единственного родителя;\\n- одного из родителей если другой родитель является лицом без гражданства или признан безвестно отсутствующим либо если место его нахождения неизвестно;\\n- одного из родителей и гражданстве иностранного государства другого родителя (если свидетельство о рождении выдано на территории Российской Федерации);\\n 2. Действительного паспорта гражданина Российской Федерации удостоверяющего личность гражданина Российской Федерации за пределами территории Российской Федерации оформленного на имя заявителя;\\n3. Действительного паспорта родителя в том числе паспорта гражданина Российской Федерации удостоверяющего личность гражданина Российской Федерации за пределами территории Российской Федерации в который внесены сведения о ребенке который обращается с заявлением о выдаче паспорта.\\n\\nПри возникновении вопросов Вы можете связаться с нами по телефону регионального call-центра 8 (4162) 99-22-22.'],\n",
       " [0.0]]"
      ]
     },
     "execution_count": 65,
     "metadata": {},
     "output_type": "execute_result"
    }
   ],
   "source": [
    "faq([\"У меня нет пропискии\"])"
   ]
  },
  {
   "cell_type": "code",
   "execution_count": null,
   "id": "78bc1c0a",
   "metadata": {},
   "outputs": [],
   "source": []
  }
 ],
 "metadata": {
  "kernelspec": {
   "display_name": "Python 3",
   "language": "python",
   "name": "python3"
  },
  "language_info": {
   "codemirror_mode": {
    "name": "ipython",
    "version": 3
   },
   "file_extension": ".py",
   "mimetype": "text/x-python",
   "name": "python",
   "nbconvert_exporter": "python",
   "pygments_lexer": "ipython3",
   "version": "3.6.15"
  }
 },
 "nbformat": 4,
 "nbformat_minor": 5
}
