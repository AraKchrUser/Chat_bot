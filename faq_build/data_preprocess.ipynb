{
 "cells": [
  {
   "cell_type": "code",
   "execution_count": 1,
   "id": "3324cbe6",
   "metadata": {},
   "outputs": [
    {
     "data": {
      "text/html": [
       "<div>\n",
       "<style scoped>\n",
       "    .dataframe tbody tr th:only-of-type {\n",
       "        vertical-align: middle;\n",
       "    }\n",
       "\n",
       "    .dataframe tbody tr th {\n",
       "        vertical-align: top;\n",
       "    }\n",
       "\n",
       "    .dataframe thead th {\n",
       "        text-align: right;\n",
       "    }\n",
       "</style>\n",
       "<table border=\"1\" class=\"dataframe\">\n",
       "  <thead>\n",
       "    <tr style=\"text-align: right;\">\n",
       "      <th></th>\n",
       "      <th>Дата обращения</th>\n",
       "      <th>Вопрос</th>\n",
       "      <th>Ответ</th>\n",
       "      <th>Ссылка</th>\n",
       "    </tr>\n",
       "  </thead>\n",
       "  <tbody>\n",
       "    <tr>\n",
       "      <th>0</th>\n",
       "      <td>29.09.2021</td>\n",
       "      <td>,,какой документ о вознаграждении подойдёт для...</td>\n",
       "      <td>Здравствуйте! Вам необходимо предоставить доку...</td>\n",
       "      <td>https://mfc-amur.ru/faq/680683/</td>\n",
       "    </tr>\n",
       "    <tr>\n",
       "      <th>1</th>\n",
       "      <td>29.09.2021</td>\n",
       "      <td>Здравствуйте сайт для проверки очереди не рабо...</td>\n",
       "      <td>Здравствуйте! Информацию о статусе рассмотрени...</td>\n",
       "      <td>https://mfc-amur.ru/faq/680677/</td>\n",
       "    </tr>\n",
       "    <tr>\n",
       "      <th>2</th>\n",
       "      <td>29.09.2021</td>\n",
       "      <td>Добрый день . Подавали документы на выплаты до...</td>\n",
       "      <td>Здравствуйте! О статусе рассмотрения заявления...</td>\n",
       "      <td>https://mfc-amur.ru/faq/680673/</td>\n",
       "    </tr>\n",
       "    <tr>\n",
       "      <th>3</th>\n",
       "      <td>28.09.2021</td>\n",
       "      <td>Здравствуйте подскажите пожалуйста подавала на...</td>\n",
       "      <td>Здравствуйте! В МФЦ результат не возвращается....</td>\n",
       "      <td>https://mfc-amur.ru/faq/680671/</td>\n",
       "    </tr>\n",
       "    <tr>\n",
       "      <th>4</th>\n",
       "      <td>27.09.2021</td>\n",
       "      <td>Выдача результатов завершена, обращение готово...</td>\n",
       "      <td>Здравствуйте! Статус Вашего дела – «В архиве»....</td>\n",
       "      <td>https://mfc-amur.ru/faq/680652/</td>\n",
       "    </tr>\n",
       "  </tbody>\n",
       "</table>\n",
       "</div>"
      ],
      "text/plain": [
       "  Дата обращения                                             Вопрос  \\\n",
       "0     29.09.2021  ,,какой документ о вознаграждении подойдёт для...   \n",
       "1     29.09.2021  Здравствуйте сайт для проверки очереди не рабо...   \n",
       "2     29.09.2021  Добрый день . Подавали документы на выплаты до...   \n",
       "3     28.09.2021  Здравствуйте подскажите пожалуйста подавала на...   \n",
       "4     27.09.2021  Выдача результатов завершена, обращение готово...   \n",
       "\n",
       "                                               Ответ  \\\n",
       "0  Здравствуйте! Вам необходимо предоставить доку...   \n",
       "1  Здравствуйте! Информацию о статусе рассмотрени...   \n",
       "2  Здравствуйте! О статусе рассмотрения заявления...   \n",
       "3  Здравствуйте! В МФЦ результат не возвращается....   \n",
       "4  Здравствуйте! Статус Вашего дела – «В архиве»....   \n",
       "\n",
       "                            Ссылка  \n",
       "0  https://mfc-amur.ru/faq/680683/  \n",
       "1  https://mfc-amur.ru/faq/680677/  \n",
       "2  https://mfc-amur.ru/faq/680673/  \n",
       "3  https://mfc-amur.ru/faq/680671/  \n",
       "4  https://mfc-amur.ru/faq/680652/  "
      ]
     },
     "execution_count": 1,
     "metadata": {},
     "output_type": "execute_result"
    }
   ],
   "source": [
    "import pandas as pd\n",
    "\n",
    "df = pd.read_csv('MFC_data.csv', sep=';')\n",
    "df.head()"
   ]
  },
  {
   "cell_type": "code",
   "execution_count": 3,
   "id": "79e3f784",
   "metadata": {},
   "outputs": [],
   "source": [
    "df = df[['Вопрос', 'Ответ']]"
   ]
  },
  {
   "cell_type": "code",
   "execution_count": 24,
   "id": "0a3c7b20",
   "metadata": {},
   "outputs": [
    {
     "name": "stdout",
     "output_type": "stream",
     "text": [
      "\",,какой документ о вознаграждении подойдёт для оформления звания ветерана труда\"\n"
     ]
    }
   ],
   "source": [
    "print('\"'+df.iloc[0,0]+'\"')"
   ]
  },
  {
   "cell_type": "code",
   "execution_count": 17,
   "id": "46a9b5a6",
   "metadata": {},
   "outputs": [],
   "source": [
    "df.iloc[1:, :].to_csv('data_faq_mfc.csv', sep=';', header=['Question', 'Answer'], index=False)"
   ]
  },
  {
   "cell_type": "code",
   "execution_count": 18,
   "id": "327dd560",
   "metadata": {},
   "outputs": [
    {
     "data": {
      "text/html": [
       "<div>\n",
       "<style scoped>\n",
       "    .dataframe tbody tr th:only-of-type {\n",
       "        vertical-align: middle;\n",
       "    }\n",
       "\n",
       "    .dataframe tbody tr th {\n",
       "        vertical-align: top;\n",
       "    }\n",
       "\n",
       "    .dataframe thead th {\n",
       "        text-align: right;\n",
       "    }\n",
       "</style>\n",
       "<table border=\"1\" class=\"dataframe\">\n",
       "  <thead>\n",
       "    <tr style=\"text-align: right;\">\n",
       "      <th></th>\n",
       "      <th>Question</th>\n",
       "      <th>Answer</th>\n",
       "    </tr>\n",
       "  </thead>\n",
       "  <tbody>\n",
       "    <tr>\n",
       "      <th>0</th>\n",
       "      <td>Здравствуйте сайт для проверки очереди не рабо...</td>\n",
       "      <td>Здравствуйте! Информацию о статусе рассмотрени...</td>\n",
       "    </tr>\n",
       "    <tr>\n",
       "      <th>1</th>\n",
       "      <td>Добрый день . Подавали документы на выплаты до...</td>\n",
       "      <td>Здравствуйте! О статусе рассмотрения заявления...</td>\n",
       "    </tr>\n",
       "    <tr>\n",
       "      <th>2</th>\n",
       "      <td>Здравствуйте подскажите пожалуйста подавала на...</td>\n",
       "      <td>Здравствуйте! В МФЦ результат не возвращается....</td>\n",
       "    </tr>\n",
       "    <tr>\n",
       "      <th>3</th>\n",
       "      <td>Выдача результатов завершена, обращение готово...</td>\n",
       "      <td>Здравствуйте! Статус Вашего дела – «В архиве»....</td>\n",
       "    </tr>\n",
       "    <tr>\n",
       "      <th>4</th>\n",
       "      <td>Здравствуйте, продаю дом. Проживаю с. Тамбовка...</td>\n",
       "      <td>Здравствуйте! МФЦ данной информацией не распол...</td>\n",
       "    </tr>\n",
       "    <tr>\n",
       "      <th>...</th>\n",
       "      <td>...</td>\n",
       "      <td>...</td>\n",
       "    </tr>\n",
       "    <tr>\n",
       "      <th>858</th>\n",
       "      <td>Добрый день! Какие необходимы документы чтобы ...</td>\n",
       "      <td>Здравствуйте, просим Вас обратиться в регионал...</td>\n",
       "    </tr>\n",
       "    <tr>\n",
       "      <th>859</th>\n",
       "      <td>Здравствуйте,подскажите как быть ? Сдала в МФЦ...</td>\n",
       "      <td>Здравствуйте, просим Вас обратиться в регионал...</td>\n",
       "    </tr>\n",
       "    <tr>\n",
       "      <th>860</th>\n",
       "      <td>Можно ли сделать временную прописку,если в док...</td>\n",
       "      <td>Здравствуйте, просим Вас обратиться в регионал...</td>\n",
       "    </tr>\n",
       "    <tr>\n",
       "      <th>861</th>\n",
       "      <td>Могу ли я получить жильё в городе Благовещенск...</td>\n",
       "      <td>Здравствуйте, просим Вас обратиться в регионал...</td>\n",
       "    </tr>\n",
       "    <tr>\n",
       "      <th>862</th>\n",
       "      <td>Здравствуйте! Подскажите такой вопрос: При рег...</td>\n",
       "      <td>Здравствуйте, просим Вас обратиться в регионал...</td>\n",
       "    </tr>\n",
       "  </tbody>\n",
       "</table>\n",
       "<p>863 rows × 2 columns</p>\n",
       "</div>"
      ],
      "text/plain": [
       "                                              Question  \\\n",
       "0    Здравствуйте сайт для проверки очереди не рабо...   \n",
       "1    Добрый день . Подавали документы на выплаты до...   \n",
       "2    Здравствуйте подскажите пожалуйста подавала на...   \n",
       "3    Выдача результатов завершена, обращение готово...   \n",
       "4    Здравствуйте, продаю дом. Проживаю с. Тамбовка...   \n",
       "..                                                 ...   \n",
       "858  Добрый день! Какие необходимы документы чтобы ...   \n",
       "859  Здравствуйте,подскажите как быть ? Сдала в МФЦ...   \n",
       "860  Можно ли сделать временную прописку,если в док...   \n",
       "861  Могу ли я получить жильё в городе Благовещенск...   \n",
       "862  Здравствуйте! Подскажите такой вопрос: При рег...   \n",
       "\n",
       "                                                Answer  \n",
       "0    Здравствуйте! Информацию о статусе рассмотрени...  \n",
       "1    Здравствуйте! О статусе рассмотрения заявления...  \n",
       "2    Здравствуйте! В МФЦ результат не возвращается....  \n",
       "3    Здравствуйте! Статус Вашего дела – «В архиве»....  \n",
       "4    Здравствуйте! МФЦ данной информацией не распол...  \n",
       "..                                                 ...  \n",
       "858  Здравствуйте, просим Вас обратиться в регионал...  \n",
       "859  Здравствуйте, просим Вас обратиться в регионал...  \n",
       "860  Здравствуйте, просим Вас обратиться в регионал...  \n",
       "861  Здравствуйте, просим Вас обратиться в регионал...  \n",
       "862  Здравствуйте, просим Вас обратиться в регионал...  \n",
       "\n",
       "[863 rows x 2 columns]"
      ]
     },
     "execution_count": 18,
     "metadata": {},
     "output_type": "execute_result"
    }
   ],
   "source": [
    "pd.read_csv('data_faq_mfc.csv', sep=';')"
   ]
  },
  {
   "cell_type": "code",
   "execution_count": 19,
   "id": "7a70483b",
   "metadata": {},
   "outputs": [
    {
     "data": {
      "text/plain": [
       "'Здравствуйте, продаю дом. Проживаю с. Тамбовка\\nСбербанк просит архивную расширенную выписку о ранее прописанные с 1991 \\nгода, в каком учреждении я могу ее получить или заказать. Текущую выписку я уже им предоставила.\\nЗаранее благодарю! '"
      ]
     },
     "execution_count": 19,
     "metadata": {},
     "output_type": "execute_result"
    }
   ],
   "source": [
    "df.iloc[5, 0]"
   ]
  },
  {
   "cell_type": "code",
   "execution_count": 25,
   "id": "cbac0e73",
   "metadata": {},
   "outputs": [
    {
     "data": {
      "text/plain": [
       "'<  jio'"
      ]
     },
     "execution_count": 25,
     "metadata": {},
     "output_type": "execute_result"
    }
   ],
   "source": [
    "'< , jio'.replace(',', '')"
   ]
  },
  {
   "cell_type": "code",
   "execution_count": null,
   "id": "4cee267e",
   "metadata": {},
   "outputs": [],
   "source": [
    "#################"
   ]
  },
  {
   "cell_type": "code",
   "execution_count": 26,
   "id": "05560a8c",
   "metadata": {},
   "outputs": [],
   "source": [
    "for col in df.columns:\n",
    "    df[col] = df[col].apply(lambda x: x.replace(',', ''))"
   ]
  },
  {
   "cell_type": "code",
   "execution_count": 28,
   "id": "60e6d2fc",
   "metadata": {},
   "outputs": [],
   "source": [
    "df.to_csv('data_faq_mfc.csv', sep=',', header=['Question', 'Answer'], index=False)"
   ]
  },
  {
   "cell_type": "code",
   "execution_count": null,
   "id": "8d0406ef",
   "metadata": {},
   "outputs": [],
   "source": [
    "################"
   ]
  }
 ],
 "metadata": {
  "kernelspec": {
   "display_name": "Python 3",
   "language": "python",
   "name": "python3"
  },
  "language_info": {
   "codemirror_mode": {
    "name": "ipython",
    "version": 3
   },
   "file_extension": ".py",
   "mimetype": "text/x-python",
   "name": "python",
   "nbconvert_exporter": "python",
   "pygments_lexer": "ipython3",
   "version": "3.6.15"
  }
 },
 "nbformat": 4,
 "nbformat_minor": 5
}
