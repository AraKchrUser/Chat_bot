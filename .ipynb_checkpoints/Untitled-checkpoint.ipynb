{
 "cells": [
  {
   "cell_type": "code",
   "execution_count": 1,
   "id": "23469caa",
   "metadata": {},
   "outputs": [],
   "source": [
    "import pandas as pd"
   ]
  },
  {
   "cell_type": "code",
   "execution_count": 2,
   "id": "9e3e36fc",
   "metadata": {},
   "outputs": [],
   "source": [
    "json = pd.read_json('project_153_2021_05_05.json', orient=\"records\", chunksize=1, lines=True)"
   ]
  },
  {
   "cell_type": "code",
   "execution_count": 4,
   "id": "450b38dc",
   "metadata": {},
   "outputs": [],
   "source": [
    "# json."
   ]
  },
  {
   "cell_type": "code",
   "execution_count": 4,
   "id": "f5c3878a",
   "metadata": {},
   "outputs": [],
   "source": [
    "# for i, obj in enumerate(json):\n",
    "#     print(obj)\n",
    "#     if i == 5: break"
   ]
  },
  {
   "cell_type": "code",
   "execution_count": 12,
   "id": "95183724",
   "metadata": {},
   "outputs": [],
   "source": [
    "# jsn.read"
   ]
  },
  {
   "cell_type": "code",
   "execution_count": 13,
   "id": "21034528",
   "metadata": {},
   "outputs": [],
   "source": [
    "# import json\n",
    "\n",
    "# jsn = open('project_153_2021_05_05.json', 'r')\n",
    "# txt = json.loads(jsn.read(1))"
   ]
  },
  {
   "cell_type": "code",
   "execution_count": 6,
   "id": "754abc6b",
   "metadata": {},
   "outputs": [
    {
     "data": {
      "text/plain": [
       "'posix'"
      ]
     },
     "execution_count": 6,
     "metadata": {},
     "output_type": "execute_result"
    }
   ],
   "source": [
    "import os\n",
    "os.name"
   ]
  },
  {
   "cell_type": "code",
   "execution_count": null,
   "id": "1b2495ab",
   "metadata": {
    "collapsed": true
   },
   "outputs": [],
   "source": []
  }
 ],
 "metadata": {
  "kernelspec": {
   "display_name": "Python 3 (ipykernel)",
   "language": "python",
   "name": "python3"
  },
  "language_info": {
   "codemirror_mode": {
    "name": "ipython",
    "version": 3
   },
   "file_extension": ".py",
   "mimetype": "text/x-python",
   "name": "python",
   "nbconvert_exporter": "python",
   "pygments_lexer": "ipython3",
   "version": "3.8.10"
  }
 },
 "nbformat": 4,
 "nbformat_minor": 5
}
